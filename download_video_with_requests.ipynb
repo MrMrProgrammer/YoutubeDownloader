{
 "cells": [
  {
   "cell_type": "code",
   "execution_count": 2,
   "metadata": {},
   "outputs": [],
   "source": [
    "import requests\n",
    "import pandas as pd"
   ]
  },
  {
   "cell_type": "code",
   "execution_count": 10,
   "metadata": {},
   "outputs": [
    {
     "data": {
      "text/html": [
       "<div>\n",
       "<style scoped>\n",
       "    .dataframe tbody tr th:only-of-type {\n",
       "        vertical-align: middle;\n",
       "    }\n",
       "\n",
       "    .dataframe tbody tr th {\n",
       "        vertical-align: top;\n",
       "    }\n",
       "\n",
       "    .dataframe thead th {\n",
       "        text-align: right;\n",
       "    }\n",
       "</style>\n",
       "<table border=\"1\" class=\"dataframe\">\n",
       "  <thead>\n",
       "    <tr style=\"text-align: right;\">\n",
       "      <th></th>\n",
       "      <th>youtube_link</th>\n",
       "      <th>caption</th>\n",
       "      <th>download_link</th>\n",
       "      <th>success</th>\n",
       "      <th>downloaded</th>\n",
       "    </tr>\n",
       "  </thead>\n",
       "  <tbody>\n",
       "    <tr>\n",
       "      <th>0</th>\n",
       "      <td>https://youtu.be/-BLqBYtSh28</td>\n",
       "      <td>A_fun_session_to_enable_a_Nostr_NIP05_address_...</td>\n",
       "      <td>https://srv4.dlmate.cc/dl?hash=UcHOjsQY4ABnl7a...</td>\n",
       "      <td>True</td>\n",
       "      <td>NaN</td>\n",
       "    </tr>\n",
       "  </tbody>\n",
       "</table>\n",
       "</div>"
      ],
      "text/plain": [
       "                   youtube_link  \\\n",
       "0  https://youtu.be/-BLqBYtSh28   \n",
       "\n",
       "                                             caption  \\\n",
       "0  A_fun_session_to_enable_a_Nostr_NIP05_address_...   \n",
       "\n",
       "                                       download_link success  downloaded  \n",
       "0  https://srv4.dlmate.cc/dl?hash=UcHOjsQY4ABnl7a...    True         NaN  "
      ]
     },
     "execution_count": 10,
     "metadata": {},
     "output_type": "execute_result"
    }
   ],
   "source": [
    "df = pd.read_csv(\"links.csv\")\n",
    "df = df.loc[df[\"success\"] == True]\n",
    "df"
   ]
  },
  {
   "cell_type": "code",
   "execution_count": 1,
   "metadata": {},
   "outputs": [],
   "source": [
    "def download_link(download_link, caption):\n",
    "\n",
    "    response = requests.get(download_link)\n",
    "\n",
    "    if response.status_code == 200:\n",
    "        with open(f'{caption}.mp4', 'wb') as f:\n",
    "\n",
    "            f.write(response.content)\n",
    "\n",
    "        return True\n",
    "\n",
    "    else:\n",
    "        return False"
   ]
  },
  {
   "cell_type": "code",
   "execution_count": null,
   "metadata": {},
   "outputs": [],
   "source": []
  }
 ],
 "metadata": {
  "kernelspec": {
   "display_name": "vevnYoutubeDownloader",
   "language": "python",
   "name": "python3"
  },
  "language_info": {
   "codemirror_mode": {
    "name": "ipython",
    "version": 3
   },
   "file_extension": ".py",
   "mimetype": "text/x-python",
   "name": "python",
   "nbconvert_exporter": "python",
   "pygments_lexer": "ipython3",
   "version": "3.10.12"
  }
 },
 "nbformat": 4,
 "nbformat_minor": 2
}
