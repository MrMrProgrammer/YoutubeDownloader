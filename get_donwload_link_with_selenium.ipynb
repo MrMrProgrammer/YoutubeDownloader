{
 "cells": [
  {
   "cell_type": "code",
   "execution_count": 1,
   "metadata": {},
   "outputs": [],
   "source": [
    "from selenium.webdriver.chrome.service import Service as ChromeService\n",
    "from webdriver_manager.chrome import ChromeDriverManager\n",
    "from selenium.webdriver.common.by import By\n",
    "from selenium import webdriver\n",
    "from time import sleep\n",
    "import pandas as pd\n",
    "import re"
   ]
  },
  {
   "cell_type": "code",
   "execution_count": 10,
   "metadata": {},
   "outputs": [
    {
     "data": {
      "text/html": [
       "<div>\n",
       "<style scoped>\n",
       "    .dataframe tbody tr th:only-of-type {\n",
       "        vertical-align: middle;\n",
       "    }\n",
       "\n",
       "    .dataframe tbody tr th {\n",
       "        vertical-align: top;\n",
       "    }\n",
       "\n",
       "    .dataframe thead th {\n",
       "        text-align: right;\n",
       "    }\n",
       "</style>\n",
       "<table border=\"1\" class=\"dataframe\">\n",
       "  <thead>\n",
       "    <tr style=\"text-align: right;\">\n",
       "      <th></th>\n",
       "      <th>youtube_link</th>\n",
       "      <th>caption</th>\n",
       "      <th>download_link</th>\n",
       "      <th>success</th>\n",
       "    </tr>\n",
       "  </thead>\n",
       "  <tbody>\n",
       "    <tr>\n",
       "      <th>0</th>\n",
       "      <td>https://youtu.be/-BLqBYtSh28</td>\n",
       "      <td>A_fun_session_to_enable_a_Nostr_NIP05_address_...</td>\n",
       "      <td>https://srv4.dlmate.cc/dl?hash=UcHOjsQY4ABnl7a...</td>\n",
       "      <td>True</td>\n",
       "    </tr>\n",
       "  </tbody>\n",
       "</table>\n",
       "</div>"
      ],
      "text/plain": [
       "                   youtube_link  \\\n",
       "0  https://youtu.be/-BLqBYtSh28   \n",
       "\n",
       "                                             caption  \\\n",
       "0  A_fun_session_to_enable_a_Nostr_NIP05_address_...   \n",
       "\n",
       "                                       download_link  success  \n",
       "0  https://srv4.dlmate.cc/dl?hash=UcHOjsQY4ABnl7a...     True  "
      ]
     },
     "execution_count": 10,
     "metadata": {},
     "output_type": "execute_result"
    }
   ],
   "source": [
    "df = pd.read_csv(\"links.csv\")\n",
    "df"
   ]
  },
  {
   "cell_type": "code",
   "execution_count": 3,
   "metadata": {},
   "outputs": [],
   "source": [
    "def sanitize_filename(caption):\n",
    "    caption = re.sub(r'Duration:\\s*\\d{1,2}:\\d{2}\\s*minutes$', '', caption, flags=re.MULTILINE)\n",
    "    filename = re.sub(r'[^\\w\\s-]', '', caption)\n",
    "    filename = re.sub(r'[\\s\\n]+', '_', filename)\n",
    "    filename = filename.strip('_')\n",
    "    return filename[:255]"
   ]
  },
  {
   "cell_type": "code",
   "execution_count": 4,
   "metadata": {},
   "outputs": [],
   "source": [
    "def download_video(youtube_link):\n",
    "    try:\n",
    "        url = 'https://en.y2mate.is/v96/'\n",
    "\n",
    "        driver = webdriver.Chrome(service=ChromeService(ChromeDriverManager().install()))\n",
    "\n",
    "        driver.get(url)\n",
    "\n",
    "        driver.maximize_window()\n",
    "\n",
    "        a = driver.find_elements(By.ID, \"txtUrl\")[0].send_keys(youtube_link)\n",
    "\n",
    "        b = driver.find_elements(By.ID, \"btnSubmit\")[0].click()\n",
    "\n",
    "        sleep(3)\n",
    "\n",
    "        trs = driver.find_elements(By.TAG_NAME, 'tr')[1]\n",
    "\n",
    "        trs.find_element(By.TAG_NAME, 'button').click()\n",
    "\n",
    "        sleep(3)\n",
    "\n",
    "        while True:\n",
    "\n",
    "            try:\n",
    "                download_btn = driver.find_element(By.ID, \"btnOk\")\n",
    "                break\n",
    "\n",
    "            except:\n",
    "                sleep(3)\n",
    "                continue\n",
    "\n",
    "        x = download_btn.find_element(By.TAG_NAME, \"button\").find_element(By.TAG_NAME, \"a\")\n",
    "\n",
    "        sleep(3)\n",
    "\n",
    "        download_link = x.get_attribute(\"href\")\n",
    "\n",
    "        caption = driver.find_element(By.TAG_NAME, \"b\").text\n",
    "\n",
    "        caption = sanitize_filename(caption)\n",
    "\n",
    "        return download_link, caption\n",
    "    \n",
    "    except Exception as e:\n",
    "        print(e)\n",
    "        return None, None"
   ]
  },
  {
   "cell_type": "code",
   "execution_count": 5,
   "metadata": {},
   "outputs": [
    {
     "name": "stderr",
     "output_type": "stream",
     "text": [
      "/tmp/ipykernel_300623/2931185934.py:5: FutureWarning: Setting an item of incompatible dtype is deprecated and will raise an error in a future version of pandas. Value 'https://srv4.dlmate.cc/dl?hash=UcHOjsQY4ABnl7augrbeh9zTyOOSzeUNyIhGvCn0EtdcGb2NW4YuNISF4I2P1lO9fRjRfzKmy%2BCzZ9Z2ektZmdSx09cYn2ZtFBvVwEopjZIMWUyFXvoD3ZWrjS2A1n1LFA9bgPYbKGoUrcoo96NiCFVTy7qYEU%2FGCgk1r%2F%2BMudg7judOZKJd2AY3GqHhD4E%2BIG79Js2pTIhUvrcMWAA8%2BUO2B1vXW5yodJO0P6xctJkdoUNSVAbNQZy5Zwb822kj6VEhek2E6r4Mcc9JUoHUoxwciH7paRAVBO%2FjFz%2Bf0LdP10GsFeSZpipVkWhU7GyG' has dtype incompatible with float64, please explicitly cast to a compatible dtype first.\n",
      "  df.at[index, 'download_link'] = download_link\n",
      "/tmp/ipykernel_300623/2931185934.py:6: FutureWarning: Setting an item of incompatible dtype is deprecated and will raise an error in a future version of pandas. Value 'A_fun_session_to_enable_a_Nostr_NIP05_address_studying_NIP_Apache_mod_rewrite_asking_AI_for_code' has dtype incompatible with float64, please explicitly cast to a compatible dtype first.\n",
      "  df.at[index, 'caption'] = caption\n",
      "/tmp/ipykernel_300623/2931185934.py:7: FutureWarning: Setting an item of incompatible dtype is deprecated and will raise an error in a future version of pandas. Value 'True' has dtype incompatible with float64, please explicitly cast to a compatible dtype first.\n",
      "  df.at[index, 'success'] = True\n"
     ]
    }
   ],
   "source": [
    "for index, row in df.iterrows():\n",
    "\n",
    "    download_link, caption = download_video(row['youtube_link'])\n",
    "\n",
    "    df.at[index, 'download_link'] = download_link\n",
    "    df.at[index, 'caption'] = caption\n",
    "    df.at[index, 'success'] = True\n",
    "\n",
    "    df.to_csv(\"links.csv\", index=False)"
   ]
  },
  {
   "cell_type": "code",
   "execution_count": 13,
   "metadata": {},
   "outputs": [
    {
     "data": {
      "text/plain": [
       "'https://srv4.dlmate.cc/dl?hash=UcHOjsQY4ABnl7augrbeh9zTyOOSzeUNyIhGvCn0EtdcGb2NW4YuNISF4I2P1lO9fRjRfzKmy%2BCzZ9Z2ektZmdSx09cYn2ZtFBvVwEopjZIMWUyFXvoD3ZWrjS2A1n1LFA9bgPYbKGoUrcoo96NiCFVTy7qYEU%2FGCgk1r%2F%2BMudg7judOZKJd2AY3GqHhD4E%2BIG79Js2pTIhUvrcMWAA8%2BUO2B1vXW5yodJO0P6xctJkdoUNSVAbNQZy5Zwb822kj6VEhek2E6r4Mcc9JUoHUoxwciH7paRAVBO%2FjFz%2Bf0LdP10GsFeSZpipVkWhU7GyG'"
      ]
     },
     "execution_count": 13,
     "metadata": {},
     "output_type": "execute_result"
    }
   ],
   "source": [
    "df.iloc[0]['download_link']"
   ]
  },
  {
   "cell_type": "code",
   "execution_count": null,
   "metadata": {},
   "outputs": [],
   "source": []
  }
 ],
 "metadata": {
  "kernelspec": {
   "display_name": "vevnYoutubeDownloader",
   "language": "python",
   "name": "python3"
  },
  "language_info": {
   "codemirror_mode": {
    "name": "ipython",
    "version": 3
   },
   "file_extension": ".py",
   "mimetype": "text/x-python",
   "name": "python",
   "nbconvert_exporter": "python",
   "pygments_lexer": "ipython3",
   "version": "3.10.12"
  }
 },
 "nbformat": 4,
 "nbformat_minor": 2
}
