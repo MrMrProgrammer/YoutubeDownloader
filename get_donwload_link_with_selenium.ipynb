{
 "cells": [
  {
   "cell_type": "code",
   "execution_count": 3,
   "metadata": {},
   "outputs": [],
   "source": [
    "from selenium.webdriver.chrome.service import Service as ChromeService\n",
    "from webdriver_manager.chrome import ChromeDriverManager\n",
    "from selenium.webdriver.common.by import By\n",
    "from selenium import webdriver\n",
    "from time import sleep\n",
    "import pandas as pd\n",
    "import re"
   ]
  },
  {
   "cell_type": "code",
   "execution_count": null,
   "metadata": {},
   "outputs": [],
   "source": [
    "df = pd.read_csv(\"links.csv\")\n",
    "df"
   ]
  },
  {
   "cell_type": "code",
   "execution_count": 5,
   "metadata": {},
   "outputs": [],
   "source": [
    "def sanitize_filename(caption):\n",
    "    caption = re.sub(r'Duration:\\s*\\d{1,2}:\\d{2}\\s*minutes$', '', caption, flags=re.MULTILINE)\n",
    "    filename = re.sub(r'[^\\w\\s-]', '', caption)\n",
    "    filename = re.sub(r'[\\s\\n]+', '_', filename)\n",
    "    filename = filename.strip('_')\n",
    "    return filename[:255]"
   ]
  },
  {
   "cell_type": "code",
   "execution_count": 19,
   "metadata": {},
   "outputs": [],
   "source": [
    "def save_download_video(youtube_link):\n",
    "    try:\n",
    "        url = 'https://en.y2mate.is/v96/'\n",
    "\n",
    "        driver = webdriver.Chrome(service=ChromeService(ChromeDriverManager().install()))\n",
    "\n",
    "        driver.get(url)\n",
    "\n",
    "        driver.maximize_window()\n",
    "\n",
    "        a = driver.find_elements(By.ID, \"txtUrl\")[0].send_keys(youtube_link)\n",
    "\n",
    "        b = driver.find_elements(By.ID, \"btnSubmit\")[0].click()\n",
    "\n",
    "        sleep(3)\n",
    "\n",
    "        trs = driver.find_elements(By.TAG_NAME, 'tr')\n",
    "\n",
    "        for i in trs:\n",
    "            if \"360p\" in i.text:\n",
    "                tr = i\n",
    "                break\n",
    "\n",
    "        tr.find_element(By.TAG_NAME, 'button').click()\n",
    "\n",
    "        sleep(3)\n",
    "\n",
    "        while True:\n",
    "\n",
    "            try:\n",
    "                download_btn = driver.find_element(By.ID, \"btnOk\")\n",
    "                break\n",
    "\n",
    "            except:\n",
    "                sleep(3)\n",
    "                continue\n",
    "\n",
    "        x = download_btn.find_element(By.TAG_NAME, \"button\").find_element(By.TAG_NAME, \"a\")\n",
    "\n",
    "        sleep(3)\n",
    "\n",
    "        download_link = x.get_attribute(\"href\")\n",
    "\n",
    "        caption = driver.find_element(By.TAG_NAME, \"b\").text\n",
    "\n",
    "        caption = sanitize_filename(caption)\n",
    "\n",
    "        return download_link, caption\n",
    "    \n",
    "    except Exception as e:\n",
    "        print(e)\n",
    "        return None, None"
   ]
  },
  {
   "cell_type": "code",
   "execution_count": null,
   "metadata": {},
   "outputs": [],
   "source": [
    "for index, row in df.iterrows():\n",
    "\n",
    "    download_link, caption = save_download_video(row['youtube_link'])\n",
    "\n",
    "    df.at[index, 'download_link'] = download_link\n",
    "    df.at[index, 'caption'] = caption\n",
    "    df.at[index, 'success'] = True\n",
    "\n",
    "    df.to_csv(\"links.csv\", index=False)"
   ]
  }
 ],
 "metadata": {
  "kernelspec": {
   "display_name": "vevnYoutubeDownloader",
   "language": "python",
   "name": "python3"
  },
  "language_info": {
   "codemirror_mode": {
    "name": "ipython",
    "version": 3
   },
   "file_extension": ".py",
   "mimetype": "text/x-python",
   "name": "python",
   "nbconvert_exporter": "python",
   "pygments_lexer": "ipython3",
   "version": "3.12.4"
  }
 },
 "nbformat": 4,
 "nbformat_minor": 2
}
